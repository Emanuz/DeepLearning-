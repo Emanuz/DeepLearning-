{
 "cells": [
  {
   "cell_type": "code",
   "execution_count": null,
   "metadata": {
    "colab": {
     "base_uri": "https://localhost:8080/",
     "height": 122
    },
    "colab_type": "code",
    "id": "1vt9EKo9lA05",
    "outputId": "64be3e82-aed9-4e7c-9c70-fef8b6440e67"
   },
   "outputs": [],
   "source": [
    "#importing google drive files into colab\n",
    "\n",
    "from google.colab import drive\n",
    "drive.mount('drive')"
   ]
  },
  {
   "cell_type": "code",
   "execution_count": null,
   "metadata": {
    "colab": {},
    "colab_type": "code",
    "id": "F8ZlMvjRwVV2"
   },
   "outputs": [],
   "source": [
    "#checking cpu info\n",
    "!cat /proc/cpuinfo"
   ]
  },
  {
   "cell_type": "code",
   "execution_count": null,
   "metadata": {
    "colab": {},
    "colab_type": "code",
    "id": "iDY3cf5slAsd"
   },
   "outputs": [],
   "source": [
    "#installing keras\n",
    "\n",
    "!pip install -q keras"
   ]
  },
  {
   "cell_type": "code",
   "execution_count": null,
   "metadata": {
    "colab": {
     "base_uri": "https://localhost:8080/",
     "height": 34
    },
    "colab_type": "code",
    "id": "B0HYbCUdlATn",
    "outputId": "75b64221-a930-4518-b7a9-4283a3b697de"
   },
   "outputs": [],
   "source": [
    "#checking if gpu is functional/working\n",
    "\n",
    "import tensorflow as tf\n",
    "\n",
    "tf.test.gpu_device_name()"
   ]
  },
  {
   "cell_type": "code",
   "execution_count": null,
   "metadata": {},
   "outputs": [],
   "source": []
  },
  {
   "cell_type": "code",
   "execution_count": null,
   "metadata": {
    "colab": {
     "base_uri": "https://localhost:8080/",
     "height": 496
    },
    "colab_type": "code",
    "id": "002rnw_IHQ4D",
    "outputId": "30c445e1-2a6b-4e80-c9cc-7c4063e335e9"
   },
   "outputs": [],
   "source": [
    "#checking gpu type in use\n",
    "\n",
    "from tensorflow.python.client import device_lib\n",
    "\n",
    "device_lib.list_local_devices()"
   ]
  },
  {
   "cell_type": "markdown",
   "metadata": {
    "colab_type": "text",
    "id": "w6VnBG3yyF8A"
   },
   "source": [
    "## About Breast Cancer Wisconsin (Diagnostic) "
   ]
  },
  {
   "cell_type": "markdown",
   "metadata": {
    "_cell_guid": "0de730e5-6631-4d4f-882e-4c34b4a0c37a",
    "_uuid": "e43e4e6f84cb95700e1d05f07f20fb740bcdfd31",
    "colab_type": "text",
    "id": "f3eAC-Hpq8y8"
   },
   "source": [
    "Data Set Features are computed from a digitized image of a fine needle aspirate (FNA) of a breast mass. They describe characteristics of the cell nuclei present in the image. n the 3-dimensional space is that described in: [K. P. Bennett and O. L. Mangasarian: \"Robust Linear Programming Discrimination of Two Linearly Inseparable Sets\", Optimization Methods and Software 1, 1992, 23-34].\n",
    "\n",
    "This database is also available through the UW CS ftp server: ftp ftp.cs.wisc.edu cd math-prog/cpo-dataset/machine-learn/WDBC/\n",
    "\n",
    "Also can be found on UCI Machine Learning Repository: https://archive.ics.uci.edu/ml/datasets/Breast+Cancer+Wisconsin+%28Diagnostic%29\n",
    "\n",
    "Attribute Information:\n",
    "\n",
    "1) ID number 2) Diagnosis (M = malignant, B = benign) 3-32)\n",
    "\n",
    "Ten real-valued features are computed for each cell nucleus:\n",
    "\n",
    "a) radius (mean of distances from center to points on the perimeter) b) texture (standard deviation of gray-scale values) c) perimeter d) area e) smoothness (local variation in radius lengths) f) compactness (perimeter^2 / area - 1.0) g) concavity (severity of concave portions of the contour) h) concave points (number of concave portions of the contour) i) symmetry j) fractal dimension (\"coastline approximation\" - 1)\n",
    "\n",
    "The mean, standard error and \"worst\" or largest (mean of the three largest values) of these features were computed for each image, resulting in 30 features. For instance, field 3 is Mean Radius, field 13 is Radius SE, field 23 is Worst Radius.\n",
    "\n",
    "All feature values are recoded with four significant digits.\n",
    "\n",
    "Missing attribute values: none\n",
    "\n",
    "Class distribution: 357 benign, 212 malignant"
   ]
  },
  {
   "cell_type": "code",
   "execution_count": null,
   "metadata": {
    "_cell_guid": "466b1182-f052-4452-abb5-4fbe3cd92095",
    "_uuid": "6f747b567b4b89f9aaa48e503ddddabf214cb278",
    "colab": {
     "base_uri": "https://localhost:8080/",
     "height": 270
    },
    "colab_type": "code",
    "id": "dcBeU_LGq8zF",
    "outputId": "fabd09c8-1b65-4fcf-c3a1-ca32a2f66b8b"
   },
   "outputs": [],
   "source": [
    "# Importing libraries\n",
    "import pandas as pd\n",
    "import numpy as np\n",
    "import matplotlib.pyplot as plt\n",
    "import seaborn as sns\n",
    "\n",
    "# Importing data and reading the first few columns\n",
    "data = pd.read_csv('data.csv')\n",
    "data.head()"
   ]
  },
  {
   "cell_type": "code",
   "execution_count": null,
   "metadata": {
    "colab": {},
    "colab_type": "code",
    "id": "-StNo7CWs73w"
   },
   "outputs": [],
   "source": [
    "# dropping the unnamed column since it doesn't provide much insight into the data\n",
    "del data['Unnamed: 32']"
   ]
  },
  {
   "cell_type": "code",
   "execution_count": null,
   "metadata": {
    "colab": {
     "base_uri": "https://localhost:8080/",
     "height": 270
    },
    "colab_type": "code",
    "id": "RlYE6jskzCVX",
    "outputId": "0f7d3a6a-e64b-4640-d26b-000b2e2cfe6d"
   },
   "outputs": [],
   "source": [
    "data.head()"
   ]
  },
  {
   "cell_type": "code",
   "execution_count": null,
   "metadata": {
    "_cell_guid": "962b3671-f704-438d-bd54-931767e877cf",
    "_uuid": "f6af18d53dcaabb44c49b50c13ba3dafe7bbae10",
    "colab": {},
    "colab_type": "code",
    "id": "Q1iJTjZbq8zY"
   },
   "outputs": [],
   "source": [
    "\"\"\" separating the data into features(X) and targets(y);\n",
    "    we have one target variable, diagnosis in this case \"\"\"\n",
    "\n",
    "X = data.iloc[:, 2:].values #features\n",
    "y = data.iloc[:, 1].values #target"
   ]
  },
  {
   "cell_type": "code",
   "execution_count": null,
   "metadata": {
    "colab": {},
    "colab_type": "code",
    "id": "UupGvxTE1pgR"
   },
   "outputs": [],
   "source": [
    "# Encoding categorical data\n",
    "from sklearn.preprocessing import LabelEncoder\n",
    "encoder = LabelEncoder()\n",
    "y = encoder.fit_transform(y)\n",
    "\n",
    "# Splitting the dataset into the Training set and Test set\n",
    "from sklearn.model_selection import train_test_split\n",
    "X_train, X_test, y_train, y_test = train_test_split(X, y, test_size = 0.1, random_state = 0)"
   ]
  },
  {
   "cell_type": "code",
   "execution_count": null,
   "metadata": {
    "colab": {},
    "colab_type": "code",
    "id": "FwMULSBR29WK"
   },
   "outputs": [],
   "source": [
    "#Scaling the features\n",
    "from sklearn.preprocessing import StandardScaler\n",
    "scaler = StandardScaler()\n",
    "X_train = scaler.fit_transform(X_train)\n",
    "X_test = scaler.transform(X_test)"
   ]
  },
  {
   "cell_type": "markdown",
   "metadata": {
    "_cell_guid": "a0d8f2ca-a51c-44e5-9399-345ec7f36509",
    "_uuid": "d9f057a42b57df5d2ad73b20fc6d81b5e33628e9",
    "colab_type": "text",
    "id": "px1yHk_pq8ze"
   },
   "source": [
    "**Now that we have prepared data, we will import Keras and its packages.**"
   ]
  },
  {
   "cell_type": "code",
   "execution_count": null,
   "metadata": {
    "_cell_guid": "51ab3d86-d1fd-40b6-a463-012e24a5c0a0",
    "_uuid": "c01850e3c738b8a55146cce28e5f6fe82378032e",
    "colab": {
     "base_uri": "https://localhost:8080/",
     "height": 34
    },
    "colab_type": "code",
    "id": "n39g5ofJq8zg",
    "outputId": "32575413-a968-4f86-8b3f-6b843c8a13d9",
    "scrolled": false
   },
   "outputs": [],
   "source": [
    "import keras\n",
    "from keras.models import Sequential\n",
    "from keras.layers import Dense, Dropout"
   ]
  },
  {
   "cell_type": "code",
   "execution_count": null,
   "metadata": {
    "_cell_guid": "5e19dee2-9602-42c9-bc3b-41d912e0aa1d",
    "_uuid": "f07a3637824959ff96269ff3806b994c4f64d117",
    "colab": {},
    "colab_type": "code",
    "id": "fgog5iFnq80R"
   },
   "outputs": [],
   "source": [
    "# Initialising the ANN model\n",
    "classifier = Sequential()"
   ]
  },
  {
   "cell_type": "code",
   "execution_count": null,
   "metadata": {
    "_cell_guid": "b1338309-a776-44b0-b04a-a8bdbf25d10e",
    "_uuid": "cce53ac057db311d8221c027afe2d286bf0a5b51",
    "colab": {
     "base_uri": "https://localhost:8080/",
     "height": 105
    },
    "colab_type": "code",
    "id": "pBzj3QVIq80Z",
    "outputId": "259f803a-d945-48a2-8430-e1fc25fd2bbd"
   },
   "outputs": [],
   "source": [
    "# Adding the input layer and the first hidden layer\n",
    "classifier.add(Dense(output_dim=16, init='uniform', activation='relu', input_dim=30))\n",
    "# Adding dropout to prevent overfitting\n",
    "classifier.add(Dropout(p=0.1))"
   ]
  },
  {
   "cell_type": "markdown",
   "metadata": {
    "_cell_guid": "dd954d81-d773-4e90-aaa3-34d1dcb99e68",
    "_uuid": "3d42817e7446a061dca811ea75ece45b15a4fdd9",
    "colab_type": "text",
    "id": "R6dkADD2q80l"
   },
   "source": [
    "input_dim - number of columns of the dataset \n",
    "\n",
    "output_dim - number of outputs to be fed to the next layer, if any\n",
    "\n",
    "activation - activation function which is ReLU in this case\n",
    "\n",
    "init - the way in which weights should be provided to an ANN"
   ]
  },
  {
   "cell_type": "code",
   "execution_count": null,
   "metadata": {
    "_cell_guid": "7d6c2e16-5ffb-43b1-b238-c7434faa8808",
    "_uuid": "6105fb90265fdd6082648004657d55a43b187217",
    "colab": {
     "base_uri": "https://localhost:8080/",
     "height": 105
    },
    "colab_type": "code",
    "id": "MtrSd907q80o",
    "outputId": "d2faeaeb-2688-4093-adf1-e51ae5687d7d"
   },
   "outputs": [],
   "source": [
    "# Adding the second hidden layer\n",
    "classifier.add(Dense(output_dim=16, init='uniform', activation='relu'))\n",
    "# Adding dropout to prevent overfitting\n",
    "classifier.add(Dropout(p=0.1))"
   ]
  },
  {
   "cell_type": "code",
   "execution_count": null,
   "metadata": {
    "_cell_guid": "628b8221-c76b-40bd-b5b9-b5aff04cbf31",
    "_uuid": "ed51c97f1ea1a10af8bee99604de076b92cb2627",
    "colab": {
     "base_uri": "https://localhost:8080/",
     "height": 71
    },
    "colab_type": "code",
    "id": "b19UUg_Oq80u",
    "outputId": "ff9837c2-c509-4083-dc34-378f87c03a81"
   },
   "outputs": [],
   "source": [
    "# Adding the output layer\n",
    "classifier.add(Dense(output_dim=1, init='uniform', activation='sigmoid'))"
   ]
  },
  {
   "cell_type": "code",
   "execution_count": null,
   "metadata": {
    "_cell_guid": "9fc5ca11-edd6-4ddd-92b0-c5b6866abbec",
    "_uuid": "01ff691f323d264792730ae9d3af72a1e9106271",
    "colab": {},
    "colab_type": "code",
    "id": "4FBK4Pa4q809"
   },
   "outputs": [],
   "source": [
    "# Compiling the ANN\n",
    "classifier.compile(optimizer='adam', loss='binary_crossentropy', metrics=['accuracy'])"
   ]
  },
  {
   "cell_type": "code",
   "execution_count": null,
   "metadata": {
    "_cell_guid": "deb09534-714c-4fd2-bac5-d5dff9c474ef",
    "_uuid": "6e2d2d3f17102bc9c4e8f093c914c58412b28ee3",
    "colab": {
     "base_uri": "https://localhost:8080/",
     "height": 3488
    },
    "colab_type": "code",
    "id": "iHLy3220q81D",
    "outputId": "cc782b2a-207f-4031-b976-a14c9d2dbef7",
    "scrolled": true
   },
   "outputs": [],
   "source": [
    "# Fitting the ANN to the Training set\n",
    "classifier.fit(X_train, y_train, batch_size=100, nb_epoch=100)"
   ]
  },
  {
   "cell_type": "code",
   "execution_count": null,
   "metadata": {
    "_cell_guid": "cc405d00-4e8c-4882-8251-d83d4b269895",
    "_uuid": "2a668b12248656821e4797a95ed0a878a63d8ee1",
    "colab": {},
    "colab_type": "code",
    "id": "wqlZvAL_q81N"
   },
   "outputs": [],
   "source": [
    "# Predicting the Test set results\n",
    "y_pred = classifier.predict(X_test)\n",
    "y_pred = (y_pred > 0.5)"
   ]
  },
  {
   "cell_type": "code",
   "execution_count": null,
   "metadata": {
    "_cell_guid": "22c127bd-8608-4d8e-909b-4b90b7e24fee",
    "_uuid": "b4c8343b16d7022ccb77f8e64f46e96ac5fbe41c",
    "colab": {},
    "colab_type": "code",
    "id": "x0oeTj-Vq81T"
   },
   "outputs": [],
   "source": [
    "# Making the Confusion Matrix\n",
    "from sklearn.metrics import confusion_matrix\n",
    "cm = confusion_matrix(y_test, y_pred)"
   ]
  },
  {
   "cell_type": "code",
   "execution_count": null,
   "metadata": {
    "_cell_guid": "2d631e23-de49-42ff-94e3-528f4131e97e",
    "_uuid": "5ed1db854bfc4bc4fb49782e7adcaaf25fe9d41e",
    "colab": {
     "base_uri": "https://localhost:8080/",
     "height": 34
    },
    "colab_type": "code",
    "id": "TdG6vIdGq81Z",
    "outputId": "c2af4d3b-87f7-427d-9523-f0fd0aa701c0"
   },
   "outputs": [],
   "source": [
    "print(\"Our accuracy is {}%\".format(((cm[0][0] + cm[1][1])/57)*100))"
   ]
  },
  {
   "cell_type": "code",
   "execution_count": null,
   "metadata": {
    "_uuid": "837036fec6bd2c2ee831bd3232804b001e472678",
    "colab": {
     "base_uri": "https://localhost:8080/",
     "height": 347
    },
    "colab_type": "code",
    "id": "WW-TWB_xq81f",
    "outputId": "4faf15fd-f5e9-4300-9871-ae7fbe0bf245"
   },
   "outputs": [],
   "source": [
    "sns.heatmap(cm,annot=True)\n",
    "plt.savefig('h.png')"
   ]
  },
  {
   "cell_type": "code",
   "execution_count": null,
   "metadata": {
    "colab": {},
    "colab_type": "code",
    "id": "4MwqzRMHvIjP"
   },
   "outputs": [],
   "source": [
    "#serialising the ml model\n",
    "import pickle\n",
    "\n",
    "pickle.dump(classifier, open('/content/cancer_pred.pickle', 'wb'))"
   ]
  },
  {
   "cell_type": "code",
   "execution_count": null,
   "metadata": {
    "colab": {},
    "colab_type": "code",
    "id": "fMlcQ1-C73iS"
   },
   "outputs": [],
   "source": [
    "!kill -9 -1"
   ]
  },
  {
   "cell_type": "code",
   "execution_count": null,
   "metadata": {
    "colab": {},
    "colab_type": "code",
    "id": "T5e31GJ-aXiv"
   },
   "outputs": [],
   "source": []
  }
 ],
 "metadata": {
  "accelerator": "GPU",
  "colab": {
   "collapsed_sections": [],
   "name": "keras-breast-cancer-data-ann.ipynb",
   "provenance": [],
   "toc_visible": true,
   "version": "0.3.2"
  },
  "kernelspec": {
   "display_name": "Python 3",
   "language": "python",
   "name": "python3"
  },
  "language_info": {
   "codemirror_mode": {
    "name": "ipython",
    "version": 3
   },
   "file_extension": ".py",
   "mimetype": "text/x-python",
   "name": "python",
   "nbconvert_exporter": "python",
   "pygments_lexer": "ipython3",
   "version": "3.6.5"
  }
 },
 "nbformat": 4,
 "nbformat_minor": 1
}
